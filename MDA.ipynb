{
 "cells": [
  {
   "cell_type": "markdown",
   "id": "196765e4",
   "metadata": {},
   "source": [
    "# Importing Libraries"
   ]
  },
  {
   "cell_type": "code",
   "execution_count": null,
   "id": "db6b46d2",
   "metadata": {},
   "outputs": [],
   "source": [
    "import numpy as np\n",
    "import re\n",
    "import nltk\n",
    "from sklearn.datasets import load_files\n",
    "nltk.download('stopwords')\n",
    "import pickle\n",
    "from nltk.corpus import stopwords\n",
    "import pandas as pd"
   ]
  },
  {
   "cell_type": "code",
   "execution_count": null,
   "id": "851afbe5",
   "metadata": {},
   "outputs": [],
   "source": [
    "!pip install jupyter-dash"
   ]
  },
  {
   "cell_type": "code",
   "execution_count": null,
   "id": "1bed980f",
   "metadata": {},
   "outputs": [],
   "source": [
    "!pip install sodapy"
   ]
  },
  {
   "cell_type": "markdown",
   "id": "ab3068c3",
   "metadata": {},
   "source": [
    "# Loading dataset"
   ]
  },
  {
   "cell_type": "code",
   "execution_count": 17,
   "id": "fb535619",
   "metadata": {},
   "outputs": [
    {
     "name": "stdout",
     "output_type": "stream",
     "text": [
      "Dimension of data frame: (2349, 15)\n"
     ]
    },
    {
     "data": {
      "text/html": [
       "<div>\n",
       "<style scoped>\n",
       "    .dataframe tbody tr th:only-of-type {\n",
       "        vertical-align: middle;\n",
       "    }\n",
       "\n",
       "    .dataframe tbody tr th {\n",
       "        vertical-align: top;\n",
       "    }\n",
       "\n",
       "    .dataframe thead th {\n",
       "        text-align: right;\n",
       "    }\n",
       "</style>\n",
       "<table border=\"1\" class=\"dataframe\">\n",
       "  <thead>\n",
       "    <tr style=\"text-align: right;\">\n",
       "      <th></th>\n",
       "      <th>Questionnaire Name</th>\n",
       "      <th>Account Number</th>\n",
       "      <th>Account Name</th>\n",
       "      <th>Country</th>\n",
       "      <th>CDP Region</th>\n",
       "      <th>ParentSection</th>\n",
       "      <th>Section</th>\n",
       "      <th>Question Number</th>\n",
       "      <th>Question Name</th>\n",
       "      <th>Row Number</th>\n",
       "      <th>Water security risk drivers</th>\n",
       "      <th>Anticipated timescale</th>\n",
       "      <th>Estimated magnitude of potential impact</th>\n",
       "      <th>Estimated probability of impact</th>\n",
       "      <th>Risk description</th>\n",
       "    </tr>\n",
       "  </thead>\n",
       "  <tbody>\n",
       "    <tr>\n",
       "      <th>0</th>\n",
       "      <td>Cities 2021</td>\n",
       "      <td>1093</td>\n",
       "      <td>City of Atlanta, GA</td>\n",
       "      <td>United States of America</td>\n",
       "      <td>North America</td>\n",
       "      <td>14. Water Security</td>\n",
       "      <td>Water Supply</td>\n",
       "      <td>14.2a</td>\n",
       "      <td>Please identify the risks to your city’s water...</td>\n",
       "      <td>1</td>\n",
       "      <td>Increased water stress</td>\n",
       "      <td>Short-term (by 2025)</td>\n",
       "      <td>Serious</td>\n",
       "      <td>NaN</td>\n",
       "      <td>The city depends on one river for water supply...</td>\n",
       "    </tr>\n",
       "    <tr>\n",
       "      <th>1</th>\n",
       "      <td>Cities 2021</td>\n",
       "      <td>1093</td>\n",
       "      <td>City of Atlanta, GA</td>\n",
       "      <td>United States of America</td>\n",
       "      <td>North America</td>\n",
       "      <td>14. Water Security</td>\n",
       "      <td>Water Supply</td>\n",
       "      <td>14.2a</td>\n",
       "      <td>Please identify the risks to your city’s water...</td>\n",
       "      <td>2</td>\n",
       "      <td>Higher water prices</td>\n",
       "      <td>Current</td>\n",
       "      <td>Serious</td>\n",
       "      <td>NaN</td>\n",
       "      <td>The water cost burden is felt across all ZIP c...</td>\n",
       "    </tr>\n",
       "    <tr>\n",
       "      <th>2</th>\n",
       "      <td>Cities 2021</td>\n",
       "      <td>1184</td>\n",
       "      <td>City of Austin, TX</td>\n",
       "      <td>United States of America</td>\n",
       "      <td>North America</td>\n",
       "      <td>14. Water Security</td>\n",
       "      <td>Water Supply</td>\n",
       "      <td>14.2a</td>\n",
       "      <td>Please identify the risks to your city’s water...</td>\n",
       "      <td>1</td>\n",
       "      <td>Increased water stress</td>\n",
       "      <td>Short-term (by 2025)</td>\n",
       "      <td>Extremely serious</td>\n",
       "      <td>High</td>\n",
       "      <td>Central Texas is drought prone and we depend o...</td>\n",
       "    </tr>\n",
       "    <tr>\n",
       "      <th>3</th>\n",
       "      <td>Cities 2021</td>\n",
       "      <td>1499</td>\n",
       "      <td>Ajuntament de Barcelona</td>\n",
       "      <td>Spain</td>\n",
       "      <td>Europe</td>\n",
       "      <td>14. Water Security</td>\n",
       "      <td>Water Supply</td>\n",
       "      <td>14.2a</td>\n",
       "      <td>Please identify the risks to your city’s water...</td>\n",
       "      <td>1</td>\n",
       "      <td>Increased water stress</td>\n",
       "      <td>Current</td>\n",
       "      <td>Serious</td>\n",
       "      <td>Medium-high</td>\n",
       "      <td>The downscaling of the climate projections at ...</td>\n",
       "    </tr>\n",
       "    <tr>\n",
       "      <th>4</th>\n",
       "      <td>Cities 2021</td>\n",
       "      <td>1499</td>\n",
       "      <td>Ajuntament de Barcelona</td>\n",
       "      <td>Spain</td>\n",
       "      <td>Europe</td>\n",
       "      <td>14. Water Security</td>\n",
       "      <td>Water Supply</td>\n",
       "      <td>14.2a</td>\n",
       "      <td>Please identify the risks to your city’s water...</td>\n",
       "      <td>2</td>\n",
       "      <td>Declining water quality</td>\n",
       "      <td>Medium-term (by 2050)</td>\n",
       "      <td>Less Serious</td>\n",
       "      <td>Medium</td>\n",
       "      <td>A reduction in water resources availability  c...</td>\n",
       "    </tr>\n",
       "    <tr>\n",
       "      <th>5</th>\n",
       "      <td>Cities 2021</td>\n",
       "      <td>1499</td>\n",
       "      <td>Ajuntament de Barcelona</td>\n",
       "      <td>Spain</td>\n",
       "      <td>Europe</td>\n",
       "      <td>14. Water Security</td>\n",
       "      <td>Water Supply</td>\n",
       "      <td>14.2a</td>\n",
       "      <td>Please identify the risks to your city’s water...</td>\n",
       "      <td>3</td>\n",
       "      <td>Severe weather events</td>\n",
       "      <td>Current</td>\n",
       "      <td>Serious</td>\n",
       "      <td>Medium-high</td>\n",
       "      <td>In terms of water supply, rivers floods could ...</td>\n",
       "    </tr>\n",
       "    <tr>\n",
       "      <th>6</th>\n",
       "      <td>Cities 2021</td>\n",
       "      <td>1499</td>\n",
       "      <td>Ajuntament de Barcelona</td>\n",
       "      <td>Spain</td>\n",
       "      <td>Europe</td>\n",
       "      <td>14. Water Security</td>\n",
       "      <td>Water Supply</td>\n",
       "      <td>14.2a</td>\n",
       "      <td>Please identify the risks to your city’s water...</td>\n",
       "      <td>4</td>\n",
       "      <td>Increased water scarcity</td>\n",
       "      <td>Current</td>\n",
       "      <td>Serious</td>\n",
       "      <td>Medium-high</td>\n",
       "      <td>Climate Plan vulnerability assessement showed ...</td>\n",
       "    </tr>\n",
       "    <tr>\n",
       "      <th>7</th>\n",
       "      <td>Cities 2021</td>\n",
       "      <td>1499</td>\n",
       "      <td>Ajuntament de Barcelona</td>\n",
       "      <td>Spain</td>\n",
       "      <td>Europe</td>\n",
       "      <td>14. Water Security</td>\n",
       "      <td>Water Supply</td>\n",
       "      <td>14.2a</td>\n",
       "      <td>Please identify the risks to your city’s water...</td>\n",
       "      <td>5</td>\n",
       "      <td>Increased water demand</td>\n",
       "      <td>Current</td>\n",
       "      <td>Less Serious</td>\n",
       "      <td>Medium-low</td>\n",
       "      <td>Climate Plan vulnerability assessement showed ...</td>\n",
       "    </tr>\n",
       "    <tr>\n",
       "      <th>8</th>\n",
       "      <td>Cities 2021</td>\n",
       "      <td>1499</td>\n",
       "      <td>Ajuntament de Barcelona</td>\n",
       "      <td>Spain</td>\n",
       "      <td>Europe</td>\n",
       "      <td>14. Water Security</td>\n",
       "      <td>Water Supply</td>\n",
       "      <td>14.2a</td>\n",
       "      <td>Please identify the risks to your city’s water...</td>\n",
       "      <td>6</td>\n",
       "      <td>Drought</td>\n",
       "      <td>Current</td>\n",
       "      <td>Serious</td>\n",
       "      <td>Medium-high</td>\n",
       "      <td>The city currently has a deficit in its water ...</td>\n",
       "    </tr>\n",
       "    <tr>\n",
       "      <th>9</th>\n",
       "      <td>Cities 2021</td>\n",
       "      <td>1499</td>\n",
       "      <td>Ajuntament de Barcelona</td>\n",
       "      <td>Spain</td>\n",
       "      <td>Europe</td>\n",
       "      <td>14. Water Security</td>\n",
       "      <td>Water Supply</td>\n",
       "      <td>14.2a</td>\n",
       "      <td>Please identify the risks to your city’s water...</td>\n",
       "      <td>7</td>\n",
       "      <td>Higher water prices</td>\n",
       "      <td>Current</td>\n",
       "      <td>Serious</td>\n",
       "      <td>Medium-high</td>\n",
       "      <td>Barcelona’s adhesion to the Blue Communities n...</td>\n",
       "    </tr>\n",
       "    <tr>\n",
       "      <th>10</th>\n",
       "      <td>Cities 2021</td>\n",
       "      <td>1499</td>\n",
       "      <td>Ajuntament de Barcelona</td>\n",
       "      <td>Spain</td>\n",
       "      <td>Europe</td>\n",
       "      <td>14. Water Security</td>\n",
       "      <td>Water Supply</td>\n",
       "      <td>14.2a</td>\n",
       "      <td>Please identify the risks to your city’s water...</td>\n",
       "      <td>8</td>\n",
       "      <td>Declining water quality</td>\n",
       "      <td>Current</td>\n",
       "      <td>Serious</td>\n",
       "      <td>High</td>\n",
       "      <td>Bathing water quality improvement, ongoing LIF...</td>\n",
       "    </tr>\n",
       "    <tr>\n",
       "      <th>11</th>\n",
       "      <td>Cities 2021</td>\n",
       "      <td>1499</td>\n",
       "      <td>Ajuntament de Barcelona</td>\n",
       "      <td>Spain</td>\n",
       "      <td>Europe</td>\n",
       "      <td>14. Water Security</td>\n",
       "      <td>Water Supply</td>\n",
       "      <td>14.2a</td>\n",
       "      <td>Please identify the risks to your city’s water...</td>\n",
       "      <td>9</td>\n",
       "      <td>Declining water quality</td>\n",
       "      <td>Current</td>\n",
       "      <td>Serious</td>\n",
       "      <td>High</td>\n",
       "      <td>Reduction of pollution at origen. Sewer sociol...</td>\n",
       "    </tr>\n",
       "    <tr>\n",
       "      <th>12</th>\n",
       "      <td>Cities 2021</td>\n",
       "      <td>1850</td>\n",
       "      <td>Birmingham City Council</td>\n",
       "      <td>United Kingdom of Great Britain and Northern I...</td>\n",
       "      <td>Europe</td>\n",
       "      <td>14. Water Security</td>\n",
       "      <td>Water Supply</td>\n",
       "      <td>14.2a</td>\n",
       "      <td>Please identify the risks to your city’s water...</td>\n",
       "      <td>0</td>\n",
       "      <td>Question not applicable</td>\n",
       "      <td>Question not applicable</td>\n",
       "      <td>Question not applicable</td>\n",
       "      <td>Question not applicable</td>\n",
       "      <td>Question not applicable</td>\n",
       "    </tr>\n",
       "    <tr>\n",
       "      <th>13</th>\n",
       "      <td>Cities 2021</td>\n",
       "      <td>2185</td>\n",
       "      <td>Bristol City Council</td>\n",
       "      <td>United Kingdom of Great Britain and Northern I...</td>\n",
       "      <td>Europe</td>\n",
       "      <td>14. Water Security</td>\n",
       "      <td>Water Supply</td>\n",
       "      <td>14.2a</td>\n",
       "      <td>Please identify the risks to your city’s water...</td>\n",
       "      <td>0</td>\n",
       "      <td>Question not applicable</td>\n",
       "      <td>Question not applicable</td>\n",
       "      <td>Question not applicable</td>\n",
       "      <td>Question not applicable</td>\n",
       "      <td>Question not applicable</td>\n",
       "    </tr>\n",
       "    <tr>\n",
       "      <th>14</th>\n",
       "      <td>Cities 2021</td>\n",
       "      <td>2430</td>\n",
       "      <td>City of Burlington, VT</td>\n",
       "      <td>United States of America</td>\n",
       "      <td>North America</td>\n",
       "      <td>14. Water Security</td>\n",
       "      <td>Water Supply</td>\n",
       "      <td>14.2a</td>\n",
       "      <td>Please identify the risks to your city’s water...</td>\n",
       "      <td>0</td>\n",
       "      <td>Question not applicable</td>\n",
       "      <td>Question not applicable</td>\n",
       "      <td>Question not applicable</td>\n",
       "      <td>Question not applicable</td>\n",
       "      <td>Question not applicable</td>\n",
       "    </tr>\n",
       "    <tr>\n",
       "      <th>15</th>\n",
       "      <td>Cities 2021</td>\n",
       "      <td>2621</td>\n",
       "      <td>Cambridgeshire County Council</td>\n",
       "      <td>United Kingdom of Great Britain and Northern I...</td>\n",
       "      <td>Europe</td>\n",
       "      <td>14. Water Security</td>\n",
       "      <td>Water Supply</td>\n",
       "      <td>14.2a</td>\n",
       "      <td>Please identify the risks to your city’s water...</td>\n",
       "      <td>1</td>\n",
       "      <td>Increased water demand</td>\n",
       "      <td>Short-term (by 2025)</td>\n",
       "      <td>Extremely serious</td>\n",
       "      <td>High</td>\n",
       "      <td>increased growth without a secure water supply...</td>\n",
       "    </tr>\n",
       "    <tr>\n",
       "      <th>16</th>\n",
       "      <td>Cities 2021</td>\n",
       "      <td>3203</td>\n",
       "      <td>City of Chicago, IL</td>\n",
       "      <td>United States of America</td>\n",
       "      <td>North America</td>\n",
       "      <td>14. Water Security</td>\n",
       "      <td>Water Supply</td>\n",
       "      <td>14.2a</td>\n",
       "      <td>Please identify the risks to your city’s water...</td>\n",
       "      <td>0</td>\n",
       "      <td>Question not applicable</td>\n",
       "      <td>Question not applicable</td>\n",
       "      <td>Question not applicable</td>\n",
       "      <td>Question not applicable</td>\n",
       "      <td>Question not applicable</td>\n",
       "    </tr>\n",
       "    <tr>\n",
       "      <th>17</th>\n",
       "      <td>Cities 2021</td>\n",
       "      <td>3417</td>\n",
       "      <td>New York City, NY</td>\n",
       "      <td>United States of America</td>\n",
       "      <td>North America</td>\n",
       "      <td>14. Water Security</td>\n",
       "      <td>Water Supply</td>\n",
       "      <td>14.2a</td>\n",
       "      <td>Please identify the risks to your city’s water...</td>\n",
       "      <td>1</td>\n",
       "      <td>Inadequate or ageing water supply infrastructure</td>\n",
       "      <td>Current</td>\n",
       "      <td>Serious</td>\n",
       "      <td>NaN</td>\n",
       "      <td>New York City’s drinking water meets orexceeds...</td>\n",
       "    </tr>\n",
       "    <tr>\n",
       "      <th>18</th>\n",
       "      <td>Cities 2021</td>\n",
       "      <td>3422</td>\n",
       "      <td>Greater London Authority</td>\n",
       "      <td>United Kingdom of Great Britain and Northern I...</td>\n",
       "      <td>Europe</td>\n",
       "      <td>14. Water Security</td>\n",
       "      <td>Water Supply</td>\n",
       "      <td>14.2a</td>\n",
       "      <td>Please identify the risks to your city’s water...</td>\n",
       "      <td>1</td>\n",
       "      <td>Increased water stress</td>\n",
       "      <td>Short-term (by 2025)</td>\n",
       "      <td>Serious</td>\n",
       "      <td>Medium-high</td>\n",
       "      <td>Short term drought risk is significant. The im...</td>\n",
       "    </tr>\n",
       "    <tr>\n",
       "      <th>19</th>\n",
       "      <td>Cities 2021</td>\n",
       "      <td>3422</td>\n",
       "      <td>Greater London Authority</td>\n",
       "      <td>United Kingdom of Great Britain and Northern I...</td>\n",
       "      <td>Europe</td>\n",
       "      <td>14. Water Security</td>\n",
       "      <td>Water Supply</td>\n",
       "      <td>14.2a</td>\n",
       "      <td>Please identify the risks to your city’s water...</td>\n",
       "      <td>2</td>\n",
       "      <td>Increased water stress</td>\n",
       "      <td>Long-term (after 2050)</td>\n",
       "      <td>Serious</td>\n",
       "      <td>High</td>\n",
       "      <td>In the medium to longer term, London is foreca...</td>\n",
       "    </tr>\n",
       "  </tbody>\n",
       "</table>\n",
       "</div>"
      ],
      "text/plain": [
       "   Questionnaire Name  Account Number                   Account Name  \\\n",
       "0         Cities 2021            1093            City of Atlanta, GA   \n",
       "1         Cities 2021            1093            City of Atlanta, GA   \n",
       "2         Cities 2021            1184             City of Austin, TX   \n",
       "3         Cities 2021            1499        Ajuntament de Barcelona   \n",
       "4         Cities 2021            1499        Ajuntament de Barcelona   \n",
       "5         Cities 2021            1499        Ajuntament de Barcelona   \n",
       "6         Cities 2021            1499        Ajuntament de Barcelona   \n",
       "7         Cities 2021            1499        Ajuntament de Barcelona   \n",
       "8         Cities 2021            1499        Ajuntament de Barcelona   \n",
       "9         Cities 2021            1499        Ajuntament de Barcelona   \n",
       "10        Cities 2021            1499        Ajuntament de Barcelona   \n",
       "11        Cities 2021            1499        Ajuntament de Barcelona   \n",
       "12        Cities 2021            1850        Birmingham City Council   \n",
       "13        Cities 2021            2185           Bristol City Council   \n",
       "14        Cities 2021            2430         City of Burlington, VT   \n",
       "15        Cities 2021            2621  Cambridgeshire County Council   \n",
       "16        Cities 2021            3203            City of Chicago, IL   \n",
       "17        Cities 2021            3417              New York City, NY   \n",
       "18        Cities 2021            3422       Greater London Authority   \n",
       "19        Cities 2021            3422       Greater London Authority   \n",
       "\n",
       "                                              Country     CDP Region  \\\n",
       "0                            United States of America  North America   \n",
       "1                            United States of America  North America   \n",
       "2                            United States of America  North America   \n",
       "3                                               Spain         Europe   \n",
       "4                                               Spain         Europe   \n",
       "5                                               Spain         Europe   \n",
       "6                                               Spain         Europe   \n",
       "7                                               Spain         Europe   \n",
       "8                                               Spain         Europe   \n",
       "9                                               Spain         Europe   \n",
       "10                                              Spain         Europe   \n",
       "11                                              Spain         Europe   \n",
       "12  United Kingdom of Great Britain and Northern I...         Europe   \n",
       "13  United Kingdom of Great Britain and Northern I...         Europe   \n",
       "14                           United States of America  North America   \n",
       "15  United Kingdom of Great Britain and Northern I...         Europe   \n",
       "16                           United States of America  North America   \n",
       "17                           United States of America  North America   \n",
       "18  United Kingdom of Great Britain and Northern I...         Europe   \n",
       "19  United Kingdom of Great Britain and Northern I...         Europe   \n",
       "\n",
       "         ParentSection       Section Question Number  \\\n",
       "0   14. Water Security  Water Supply           14.2a   \n",
       "1   14. Water Security  Water Supply           14.2a   \n",
       "2   14. Water Security  Water Supply           14.2a   \n",
       "3   14. Water Security  Water Supply           14.2a   \n",
       "4   14. Water Security  Water Supply           14.2a   \n",
       "5   14. Water Security  Water Supply           14.2a   \n",
       "6   14. Water Security  Water Supply           14.2a   \n",
       "7   14. Water Security  Water Supply           14.2a   \n",
       "8   14. Water Security  Water Supply           14.2a   \n",
       "9   14. Water Security  Water Supply           14.2a   \n",
       "10  14. Water Security  Water Supply           14.2a   \n",
       "11  14. Water Security  Water Supply           14.2a   \n",
       "12  14. Water Security  Water Supply           14.2a   \n",
       "13  14. Water Security  Water Supply           14.2a   \n",
       "14  14. Water Security  Water Supply           14.2a   \n",
       "15  14. Water Security  Water Supply           14.2a   \n",
       "16  14. Water Security  Water Supply           14.2a   \n",
       "17  14. Water Security  Water Supply           14.2a   \n",
       "18  14. Water Security  Water Supply           14.2a   \n",
       "19  14. Water Security  Water Supply           14.2a   \n",
       "\n",
       "                                        Question Name  Row Number  \\\n",
       "0   Please identify the risks to your city’s water...           1   \n",
       "1   Please identify the risks to your city’s water...           2   \n",
       "2   Please identify the risks to your city’s water...           1   \n",
       "3   Please identify the risks to your city’s water...           1   \n",
       "4   Please identify the risks to your city’s water...           2   \n",
       "5   Please identify the risks to your city’s water...           3   \n",
       "6   Please identify the risks to your city’s water...           4   \n",
       "7   Please identify the risks to your city’s water...           5   \n",
       "8   Please identify the risks to your city’s water...           6   \n",
       "9   Please identify the risks to your city’s water...           7   \n",
       "10  Please identify the risks to your city’s water...           8   \n",
       "11  Please identify the risks to your city’s water...           9   \n",
       "12  Please identify the risks to your city’s water...           0   \n",
       "13  Please identify the risks to your city’s water...           0   \n",
       "14  Please identify the risks to your city’s water...           0   \n",
       "15  Please identify the risks to your city’s water...           1   \n",
       "16  Please identify the risks to your city’s water...           0   \n",
       "17  Please identify the risks to your city’s water...           1   \n",
       "18  Please identify the risks to your city’s water...           1   \n",
       "19  Please identify the risks to your city’s water...           2   \n",
       "\n",
       "                         Water security risk drivers    Anticipated timescale  \\\n",
       "0                             Increased water stress     Short-term (by 2025)   \n",
       "1                                Higher water prices                  Current   \n",
       "2                             Increased water stress     Short-term (by 2025)   \n",
       "3                             Increased water stress                  Current   \n",
       "4                            Declining water quality    Medium-term (by 2050)   \n",
       "5                              Severe weather events                  Current   \n",
       "6                           Increased water scarcity                  Current   \n",
       "7                             Increased water demand                  Current   \n",
       "8                                            Drought                  Current   \n",
       "9                                Higher water prices                  Current   \n",
       "10                           Declining water quality                  Current   \n",
       "11                           Declining water quality                  Current   \n",
       "12                           Question not applicable  Question not applicable   \n",
       "13                           Question not applicable  Question not applicable   \n",
       "14                           Question not applicable  Question not applicable   \n",
       "15                            Increased water demand     Short-term (by 2025)   \n",
       "16                           Question not applicable  Question not applicable   \n",
       "17  Inadequate or ageing water supply infrastructure                  Current   \n",
       "18                            Increased water stress     Short-term (by 2025)   \n",
       "19                            Increased water stress   Long-term (after 2050)   \n",
       "\n",
       "   Estimated magnitude of potential impact Estimated probability of impact  \\\n",
       "0                                  Serious                             NaN   \n",
       "1                                  Serious                             NaN   \n",
       "2                        Extremely serious                            High   \n",
       "3                                  Serious                     Medium-high   \n",
       "4                             Less Serious                          Medium   \n",
       "5                                  Serious                     Medium-high   \n",
       "6                                  Serious                     Medium-high   \n",
       "7                             Less Serious                      Medium-low   \n",
       "8                                  Serious                     Medium-high   \n",
       "9                                  Serious                     Medium-high   \n",
       "10                                 Serious                            High   \n",
       "11                                 Serious                            High   \n",
       "12                 Question not applicable         Question not applicable   \n",
       "13                 Question not applicable         Question not applicable   \n",
       "14                 Question not applicable         Question not applicable   \n",
       "15                       Extremely serious                            High   \n",
       "16                 Question not applicable         Question not applicable   \n",
       "17                                 Serious                             NaN   \n",
       "18                                 Serious                     Medium-high   \n",
       "19                                 Serious                            High   \n",
       "\n",
       "                                     Risk description  \n",
       "0   The city depends on one river for water supply...  \n",
       "1   The water cost burden is felt across all ZIP c...  \n",
       "2   Central Texas is drought prone and we depend o...  \n",
       "3   The downscaling of the climate projections at ...  \n",
       "4   A reduction in water resources availability  c...  \n",
       "5   In terms of water supply, rivers floods could ...  \n",
       "6   Climate Plan vulnerability assessement showed ...  \n",
       "7   Climate Plan vulnerability assessement showed ...  \n",
       "8   The city currently has a deficit in its water ...  \n",
       "9   Barcelona’s adhesion to the Blue Communities n...  \n",
       "10  Bathing water quality improvement, ongoing LIF...  \n",
       "11  Reduction of pollution at origen. Sewer sociol...  \n",
       "12                            Question not applicable  \n",
       "13                            Question not applicable  \n",
       "14                            Question not applicable  \n",
       "15  increased growth without a secure water supply...  \n",
       "16                            Question not applicable  \n",
       "17  New York City’s drinking water meets orexceeds...  \n",
       "18  Short term drought risk is significant. The im...  \n",
       "19  In the medium to longer term, London is foreca...  "
      ]
     },
     "execution_count": 17,
     "metadata": {},
     "output_type": "execute_result"
    }
   ],
   "source": [
    "df=pd.read_csv(\"2021_Cities_Water_Security_Risks.csv\")\n",
    "print(\"Dimension of data frame:\", df.shape)\n",
    "df.head(20)"
   ]
  },
  {
   "cell_type": "markdown",
   "id": "3ccd71d6",
   "metadata": {},
   "source": [
    "# Data Exploration"
   ]
  },
  {
   "cell_type": "markdown",
   "id": "e711f826",
   "metadata": {},
   "source": [
    "## 1. Variable Section"
   ]
  },
  {
   "cell_type": "code",
   "execution_count": 24,
   "id": "f8312ff3",
   "metadata": {},
   "outputs": [
    {
     "data": {
      "text/plain": [
       "array(['Cities 2021'], dtype=object)"
      ]
     },
     "execution_count": 24,
     "metadata": {},
     "output_type": "execute_result"
    }
   ],
   "source": [
    "df['Questionnaire Name'].unique()"
   ]
  },
  {
   "cell_type": "code",
   "execution_count": 25,
   "id": "f4c8d928",
   "metadata": {},
   "outputs": [
    {
     "data": {
      "text/plain": [
       "array([  1093,   1184,   1499, ..., 863478, 863498, 863533], dtype=int64)"
      ]
     },
     "execution_count": 25,
     "metadata": {},
     "output_type": "execute_result"
    }
   ],
   "source": [
    "df['Account Number'].unique()"
   ]
  },
  {
   "cell_type": "code",
   "execution_count": 26,
   "id": "30fcd584",
   "metadata": {},
   "outputs": [
    {
     "data": {
      "text/plain": [
       "array(['City of Atlanta, GA', 'City of Austin, TX',\n",
       "       'Ajuntament de Barcelona', ..., 'Coatzacoalcos', 'Zinacantepec',\n",
       "       'San Antonio'], dtype=object)"
      ]
     },
     "execution_count": 26,
     "metadata": {},
     "output_type": "execute_result"
    }
   ],
   "source": [
    "df['Account Name'].unique()"
   ]
  },
  {
   "cell_type": "code",
   "execution_count": 28,
   "id": "eca6bb53",
   "metadata": {},
   "outputs": [
    {
     "data": {
      "text/plain": [
       "array(['North America', 'Europe', 'Southeast Asia and Oceania',\n",
       "       'East Asia', 'Africa', 'Latin America', 'South and West Asia',\n",
       "       'Middle East'], dtype=object)"
      ]
     },
     "execution_count": 28,
     "metadata": {},
     "output_type": "execute_result"
    }
   ],
   "source": [
    "df['CDP Region'].unique()"
   ]
  },
  {
   "cell_type": "code",
   "execution_count": 27,
   "id": "6f61d80a",
   "metadata": {},
   "outputs": [
    {
     "data": {
      "text/plain": [
       "array(['United States of America', 'Spain',\n",
       "       'United Kingdom of Great Britain and Northern Ireland', 'Sweden',\n",
       "       'Finland', 'Norway', 'Portugal', 'Canada', 'Denmark', 'Australia',\n",
       "       'Italy', 'Japan', 'Taiwan, Greater China', 'South Africa',\n",
       "       'Ethiopia', 'Netherlands', 'Greece', 'Thailand', 'Switzerland',\n",
       "       'Germany', 'Colombia', 'Argentina', 'Brazil', 'India', 'Viet Nam',\n",
       "       'Turkey', 'Indonesia', 'Nigeria', 'Pakistan',\n",
       "       'China, Hong Kong Special Administrative Region', 'Peru', 'Mexico',\n",
       "       'Russian Federation', 'France', 'Chile', 'Poland',\n",
       "       'Republic of Korea', 'Israel', 'United Republic of Tanzania',\n",
       "       'Morocco', 'Kenya', 'Singapore',\n",
       "       'Democratic Republic of the Congo', \"Côte d'Ivoire\", 'Senegal',\n",
       "       'Ghana', 'Ecuador', 'Madagascar', 'Latvia', 'Uruguay', 'Bulgaria',\n",
       "       'Slovenia', 'Croatia', 'New Zealand', 'United Arab Emirates',\n",
       "       'Paraguay', 'Uganda', 'Zambia', 'Zimbabwe', 'Sierra Leone',\n",
       "       'Georgia', 'Honduras', 'Bolivia (Plurinational State of)',\n",
       "       'Costa Rica', 'Gibraltar', 'Bangladesh', 'Monaco', 'China',\n",
       "       'Guatemala', 'Jordan', 'Lebanon', 'Philippines', 'Malaysia',\n",
       "       'Iceland', 'Panama', 'Serbia', 'Montenegro', 'Liberia',\n",
       "       'Burkina Faso', 'Cameroon', 'Lithuania', 'Belgium', 'Tunisia',\n",
       "       'Romania', 'Burundi', 'Namibia', 'Eswatini', 'Mozambique',\n",
       "       'State of Palestine', 'Venezuela (Bolivarian Republic of)',\n",
       "       \"Lao People's Democratic Republic\", 'Nepal', 'Ireland'],\n",
       "      dtype=object)"
      ]
     },
     "execution_count": 27,
     "metadata": {},
     "output_type": "execute_result"
    }
   ],
   "source": [
    "df['Country'].unique()"
   ]
  },
  {
   "cell_type": "code",
   "execution_count": 29,
   "id": "1c890c6b",
   "metadata": {},
   "outputs": [
    {
     "data": {
      "text/plain": [
       "array(['14. Water Security'], dtype=object)"
      ]
     },
     "execution_count": 29,
     "metadata": {},
     "output_type": "execute_result"
    }
   ],
   "source": [
    "df['ParentSection'].unique()"
   ]
  },
  {
   "cell_type": "code",
   "execution_count": 30,
   "id": "54f60c35",
   "metadata": {},
   "outputs": [
    {
     "data": {
      "text/plain": [
       "array(['Water Supply'], dtype=object)"
      ]
     },
     "execution_count": 30,
     "metadata": {},
     "output_type": "execute_result"
    }
   ],
   "source": [
    "df['Section'].unique()"
   ]
  },
  {
   "cell_type": "code",
   "execution_count": 31,
   "id": "773860ff",
   "metadata": {},
   "outputs": [
    {
     "data": {
      "text/plain": [
       "array(['14.2a'], dtype=object)"
      ]
     },
     "execution_count": 31,
     "metadata": {},
     "output_type": "execute_result"
    }
   ],
   "source": [
    "df['Question Number'].unique()"
   ]
  },
  {
   "cell_type": "code",
   "execution_count": 32,
   "id": "03e18878",
   "metadata": {},
   "outputs": [
    {
     "data": {
      "text/plain": [
       "array(['Please identify the risks to your city’s water security as well as the timescale and level of risk.'],\n",
       "      dtype=object)"
      ]
     },
     "execution_count": 32,
     "metadata": {},
     "output_type": "execute_result"
    }
   ],
   "source": [
    "df['Question Name'].unique()"
   ]
  },
  {
   "cell_type": "code",
   "execution_count": 33,
   "id": "20e212c4",
   "metadata": {},
   "outputs": [
    {
     "data": {
      "text/plain": [
       "array([  1,   2,   3,   4,   5,   6,   7,   8,   9,   0,  10,  11,  12,\n",
       "        13,  14,  15,  16,  17,  18,  19,  20,  21,  22,  23,  24,  25,\n",
       "        26,  27,  28,  29,  30,  31,  32,  33,  34,  35,  36,  37,  38,\n",
       "        39,  40,  41,  42,  43,  44,  45,  46,  47,  48,  49,  50,  51,\n",
       "        52,  53,  54,  55,  56,  57,  58,  59,  60,  61,  62,  63,  64,\n",
       "        65,  66,  67,  68,  69,  70,  71,  72,  73,  74,  75,  76,  77,\n",
       "        78,  79,  80,  81,  82,  83,  84,  85,  86,  87,  88,  89,  90,\n",
       "        91,  92,  93,  94,  95,  96,  97,  98,  99, 100, 101, 102, 103,\n",
       "       104, 105, 106, 107, 108, 109, 110, 111, 112, 113, 114, 115, 116,\n",
       "       117, 118, 119, 120, 121, 122, 123, 124, 125, 126, 127, 128, 129,\n",
       "       130, 131, 132, 133, 134, 135, 136, 137, 138, 139, 140, 141, 142,\n",
       "       143, 144, 145, 146, 147, 148, 149, 150, 151, 152, 153, 154, 155,\n",
       "       156, 157, 158, 159, 160], dtype=int64)"
      ]
     },
     "execution_count": 33,
     "metadata": {},
     "output_type": "execute_result"
    }
   ],
   "source": [
    "df['Row Number'].unique()"
   ]
  },
  {
   "cell_type": "code",
   "execution_count": 34,
   "id": "38afc62c",
   "metadata": {},
   "outputs": [
    {
     "data": {
      "text/plain": [
       "array(['Increased water stress', 'Higher water prices',\n",
       "       'Declining water quality', 'Severe weather events',\n",
       "       'Increased water scarcity', 'Increased water demand', 'Drought',\n",
       "       'Question not applicable',\n",
       "       'Inadequate or ageing water supply infrastructure',\n",
       "       'Environmental regulations', 'Pollution incidents',\n",
       "       'Energy supply issues', nan, 'Change in land-use',\n",
       "       'Ecosystem vulnerability',\n",
       "       'Other, please specify: Unsustainable abstraction',\n",
       "       'Other, please specify: Climate change',\n",
       "       'Rationing of municipal water supply',\n",
       "       'Increased levels of plastic in freshwater bodies',\n",
       "       'Water infestation/disease',\n",
       "       'Unauthorised/unregistered water connections',\n",
       "       'Other, please specify: flooding',\n",
       "       'Other, please specify: Terrorist attack',\n",
       "       'Other, please specify: teror',\n",
       "       'Other, please specify: Earthquake/Tsunami',\n",
       "       'Other, please specify: war', 'Other, please specify: pandemic',\n",
       "       'Other, please specify: syber',\n",
       "       'Other, please specify: Apex level source planning e.g. river interlinking',\n",
       "       'Other, please specify: Long term rising sea level',\n",
       "       'Other, please specify: Vulnerabilidade do ciclo urbano da água a episódios anómalos (avarias, fenómenos de poluição e extremos climáticos)',\n",
       "       'Other, please specify: Consumo de energia',\n",
       "       'Other, please specify: pop growth; projections show ok through 2028',\n",
       "       'Other, please specify: Cybersecurity',\n",
       "       'Other, please specify: Earthquake',\n",
       "       'Other, please specify: Inadequacy of economic or human resources',\n",
       "       'Other, please specify: Wrong kind of political guidance',\n",
       "       'Other, please specify: Access to potable water supply',\n",
       "       'Other, please specify: Destruction of the Eco-System',\n",
       "       'Other, please specify: Novo Marco Regulatório do Saneamento Básico',\n",
       "       'Other, please specify: proyecto minero a gran escala en páramo de santurban donde nace el agua que abastece las ptap del acueducto que presta el servicio de agua potable en el municipio de floridablanca.',\n",
       "       'Other, please specify: Problemas de innundaciones',\n",
       "       'Other, please specify: Seasonal Rainfall',\n",
       "       'Other, please specify: Seasonal Temperature',\n",
       "       'Other, please specify: Flooding',\n",
       "       'Other, please specify: Rain-induced landslide',\n",
       "       'Other, please specify: Lahar',\n",
       "       'Other, please specify: Storm Surge',\n",
       "       'Other, please specify: Sea Level Rise',\n",
       "       'Other, please specify: Radium in water', 'Other, please specify',\n",
       "       'Other, please specify: •Diminuição dos caudais da escala annual à diária, potenciando um agravamento na qualidade da água',\n",
       "       'Other, please specify: •Redução global dos volumes de água armazenável',\n",
       "       'Other, please specify: •Diminuição da disponibilidade de água',\n",
       "       'Other, please specify: •Volumes de água abaixo de limiares críticos',\n",
       "       'Other, please specify: 受政治因素影響',\n",
       "       'Other, please specify: Cyber Security',\n",
       "       'Other, please specify: Population',\n",
       "       'Other, please specify: Decreased ground water levels',\n",
       "       'Other, please specify: Saltwater intrusion',\n",
       "       'Other, please specify: Posible proyecto de Carretera Hidrica, trasbasije de agua del río Biobío al norte, con fines agricolas',\n",
       "       'Other, please specify: Perdida de calidad y cantidad de agua por procesos de urbanización, perdida infiltración',\n",
       "       'Other, please specify: Arsénico dentro de las fuentes de captación de agua',\n",
       "       'Other, please specify: No reserve water source',\n",
       "       'Other, please specify: Wildfire'], dtype=object)"
      ]
     },
     "execution_count": 34,
     "metadata": {},
     "output_type": "execute_result"
    }
   ],
   "source": [
    "df['Water security risk drivers'].unique()"
   ]
  },
  {
   "cell_type": "code",
   "execution_count": 35,
   "id": "7132aee3",
   "metadata": {},
   "outputs": [
    {
     "data": {
      "text/plain": [
       "array(['Short-term (by 2025)', 'Current', 'Medium-term (by 2050)',\n",
       "       'Question not applicable', 'Long-term (after 2050)', nan],\n",
       "      dtype=object)"
      ]
     },
     "execution_count": 35,
     "metadata": {},
     "output_type": "execute_result"
    }
   ],
   "source": [
    "df['Anticipated timescale'].unique()"
   ]
  },
  {
   "cell_type": "code",
   "execution_count": 36,
   "id": "fbf91956",
   "metadata": {},
   "outputs": [
    {
     "data": {
      "text/plain": [
       "array(['Serious', 'Extremely serious', 'Less Serious',\n",
       "       'Question not applicable', nan], dtype=object)"
      ]
     },
     "execution_count": 36,
     "metadata": {},
     "output_type": "execute_result"
    }
   ],
   "source": [
    "df['Estimated magnitude of potential impact'].unique()"
   ]
  },
  {
   "cell_type": "code",
   "execution_count": 37,
   "id": "2e307d0a",
   "metadata": {},
   "outputs": [
    {
     "data": {
      "text/plain": [
       "array([nan, 'High', 'Medium-high', 'Medium', 'Medium-low',\n",
       "       'Question not applicable', 'Low', 'Do not know'], dtype=object)"
      ]
     },
     "execution_count": 37,
     "metadata": {},
     "output_type": "execute_result"
    }
   ],
   "source": [
    "df['Estimated probability of impact'].unique()"
   ]
  },
  {
   "cell_type": "code",
   "execution_count": 38,
   "id": "4df20c3a",
   "metadata": {},
   "outputs": [
    {
     "data": {
      "text/plain": [
       "array(['The city depends on one river for water supply - the river has suffered from extreme droughts in previous years. Intensive rain fall has produced floods in the city affecting transportation, houses, and businesses',\n",
       "       'The water cost burden is felt across all ZIP codes and but most seriously affects low-income residents and communities where they are located.',\n",
       "       'Central Texas is drought prone and we depend on surface water for 100% of our supply.  Recently lake levels fell to 30% of full in 2012 before receiving drought breaking rains',\n",
       "       ...,\n",
       "       \"Les nappes phréatiques permettent de compter sur des réserves d'eau pour quelques mois, mais si le stress hydrique augmente trop, elles pourraient s'épuiser rapidement.\",\n",
       "       'Los mantos freáticos, debido a la extracción mediante pozos, se están agotando y, a la vez, se tiene que realizar perforaciones muy profundas con agua con alta probabilidad de contaminantes',\n",
       "       'Perdidad de zonas de recarga'], dtype=object)"
      ]
     },
     "execution_count": 38,
     "metadata": {},
     "output_type": "execute_result"
    }
   ],
   "source": [
    "df['Risk description'].unique()"
   ]
  },
  {
   "cell_type": "markdown",
   "id": "14bb4c7d",
   "metadata": {},
   "source": [
    "Due to having only one value in these variable so we delete these variables:\n",
    "- Question Name\n",
    "- ParentSection\n",
    "- Section\n",
    "- Question Number\n",
    "- Question Name\n",
    "- Questionnaire Name"
   ]
  },
  {
   "cell_type": "markdown",
   "id": "293b0e34",
   "metadata": {},
   "source": [
    "# Data Processing"
   ]
  },
  {
   "cell_type": "code",
   "execution_count": 12,
   "id": "0a35bec6",
   "metadata": {},
   "outputs": [
    {
     "data": {
      "text/plain": [
       "Questionnaire Name                           0\n",
       "Account Number                               0\n",
       "Account Name                                 0\n",
       "Country                                      0\n",
       "CDP Region                                   0\n",
       "ParentSection                                0\n",
       "Section                                      0\n",
       "Question Number                              0\n",
       "Question Name                                0\n",
       "Row Number                                   0\n",
       "Water security risk drivers                212\n",
       "Anticipated timescale                      197\n",
       "Estimated magnitude of potential impact    261\n",
       "Estimated probability of impact            594\n",
       "Risk description                           405\n",
       "dtype: int64"
      ]
     },
     "execution_count": 12,
     "metadata": {},
     "output_type": "execute_result"
    }
   ],
   "source": [
    "df.isna().sum()"
   ]
  },
  {
   "cell_type": "markdown",
   "id": "990c8624",
   "metadata": {},
   "source": [
    "Dataset contains some variables which were missing values, such as:\n",
    "- Water security risk drivers\n",
    "- Anticipated timescales\n",
    "- Estimated magnitude of potential impact\n",
    "- Estimated probability of impact\n",
    "- Risk description: this variables can be delected because it were being in diffirent languages."
   ]
  },
  {
   "cell_type": "markdown",
   "id": "fa57f5a4",
   "metadata": {},
   "source": [
    "# Data Formatting"
   ]
  },
  {
   "cell_type": "code",
   "execution_count": 13,
   "id": "9a27f3c1",
   "metadata": {},
   "outputs": [
    {
     "data": {
      "text/plain": [
       "Questionnaire Name                         object\n",
       "Account Number                              int64\n",
       "Account Name                               object\n",
       "Country                                    object\n",
       "CDP Region                                 object\n",
       "ParentSection                              object\n",
       "Section                                    object\n",
       "Question Number                            object\n",
       "Question Name                              object\n",
       "Row Number                                  int64\n",
       "Water security risk drivers                object\n",
       "Anticipated timescale                      object\n",
       "Estimated magnitude of potential impact    object\n",
       "Estimated probability of impact            object\n",
       "Risk description                           object\n",
       "dtype: object"
      ]
     },
     "execution_count": 13,
     "metadata": {},
     "output_type": "execute_result"
    }
   ],
   "source": [
    "df.dtypes"
   ]
  },
  {
   "cell_type": "code",
   "execution_count": null,
   "id": "b152444c",
   "metadata": {},
   "outputs": [],
   "source": []
  }
 ],
 "metadata": {
  "kernelspec": {
   "display_name": "Python 3 (ipykernel)",
   "language": "python",
   "name": "python3"
  },
  "language_info": {
   "codemirror_mode": {
    "name": "ipython",
    "version": 3
   },
   "file_extension": ".py",
   "mimetype": "text/x-python",
   "name": "python",
   "nbconvert_exporter": "python",
   "pygments_lexer": "ipython3",
   "version": "3.9.7"
  }
 },
 "nbformat": 4,
 "nbformat_minor": 5
}
